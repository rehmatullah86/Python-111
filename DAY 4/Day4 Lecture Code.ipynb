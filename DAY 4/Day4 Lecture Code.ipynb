{
 "cells": [
  {
   "cell_type": "markdown",
   "metadata": {},
   "source": [
    "# DAY 4\n",
    "\n"
   ]
  },
  {
   "cell_type": "markdown",
   "metadata": {},
   "source": [
    "### Topics:\n",
    "1:List and offset (address)\n",
    "2:Randomization \n",
    "3:Integer and Float Randomization \n",
    "4:Modules\n",
    "5:Split function( Tokenization )"
   ]
  },
  {
   "cell_type": "code",
   "execution_count": 28,
   "metadata": {},
   "outputs": [
    {
     "name": "stdout",
     "output_type": "stream",
     "text": [
      "['saad', 21, True]\n"
     ]
    }
   ],
   "source": [
    "#LIST is like array\n",
    "MY_Bio=[\"saad\",21,True]\n",
    "\n",
    "print(MY_Bio)"
   ]
  },
  {
   "cell_type": "markdown",
   "metadata": {},
   "source": [
    "#### offset -> Address"
   ]
  },
  {
   "cell_type": "code",
   "execution_count": 29,
   "metadata": {},
   "outputs": [
    {
     "name": "stdout",
     "output_type": "stream",
     "text": [
      "21\n"
     ]
    }
   ],
   "source": [
    "#LIST is like array\n",
    "MY_Bio=[\"saad\",21]\n",
    "\n",
    "print(MY_Bio[1])"
   ]
  },
  {
   "cell_type": "markdown",
   "metadata": {},
   "source": [
    "### Rondamization"
   ]
  },
  {
   "cell_type": "code",
   "execution_count": 30,
   "metadata": {},
   "outputs": [
    {
     "name": "stdout",
     "output_type": "stream",
     "text": [
      "Tail\n"
     ]
    }
   ],
   "source": [
    "import random\n",
    "my_choice=[\"Head\",\"Tail\"]\n",
    "result=random.choice(my_choice)\n",
    "print(result)"
   ]
  },
  {
   "cell_type": "code",
   "execution_count": 31,
   "metadata": {},
   "outputs": [
    {
     "name": "stdout",
     "output_type": "stream",
     "text": [
      "3\n"
     ]
    }
   ],
   "source": [
    "import random\n",
    "random_integer=random.randint(1,10)\n",
    "print(random_integer)"
   ]
  },
  {
   "cell_type": "code",
   "execution_count": 35,
   "metadata": {},
   "outputs": [
    {
     "name": "stdout",
     "output_type": "stream",
     "text": [
      "33\n"
     ]
    }
   ],
   "source": [
    "import random as sadi\n",
    "random_integer=sadi.randint(1,100)\n",
    "print(random_integer)"
   ]
  },
  {
   "cell_type": "markdown",
   "metadata": {},
   "source": [
    "#### Module Parts of Projects(Example: Car Manufacturing)"
   ]
  },
  {
   "cell_type": "code",
   "execution_count": 33,
   "metadata": {},
   "outputs": [],
   "source": [
    "# Check Pycharm"
   ]
  },
  {
   "cell_type": "code",
   "execution_count": 34,
   "metadata": {},
   "outputs": [
    {
     "name": "stdout",
     "output_type": "stream",
     "text": [
      "0.6098845752611941\n"
     ]
    }
   ],
   "source": [
    "#Random Float\n",
    "import random as sadi\n",
    "random_float=sadi.random()\n",
    "# 0.00000000000 -- 0.99999999999999\n",
    "print(random_float)"
   ]
  },
  {
   "cell_type": "markdown",
   "metadata": {},
   "source": [
    "### Task of the Day:\n"
   ]
  },
  {
   "cell_type": "code",
   "execution_count": 37,
   "metadata": {},
   "outputs": [
    {
     "name": "stdout",
     "output_type": "stream",
     "text": [
      "Tail\n",
      "Value is:  2\n"
     ]
    }
   ],
   "source": [
    "import random as sadi\n",
    "random_integer=sadi.randint(1,2)\n",
    "if random_integer==1:\n",
    "    print(\"HEADS\")\n",
    "else:\n",
    "    print(\"Tail\")\n",
    "    \n",
    "print(\"Value is: \",random_integer)"
   ]
  },
  {
   "cell_type": "markdown",
   "metadata": {},
   "source": [
    "#### Split \n"
   ]
  },
  {
   "cell_type": "code",
   "execution_count": 38,
   "metadata": {},
   "outputs": [
    {
     "name": "stdout",
     "output_type": "stream",
     "text": [
      "['Muhammad Saad ', 'Fareed is my name. and', ' my age is 21. ']\n"
     ]
    }
   ],
   "source": [
    "sentence=\"Muhammad Saad ?Fareed is my name. and? my age is 21. \"\n",
    "words=sentence.split(\"?\")\n",
    "print(words)"
   ]
  }
 ],
 "metadata": {
  "kernelspec": {
   "display_name": "Python 3",
   "language": "python",
   "name": "python3"
  },
  "language_info": {
   "codemirror_mode": {
    "name": "ipython",
    "version": 3
   },
   "file_extension": ".py",
   "mimetype": "text/x-python",
   "name": "python",
   "nbconvert_exporter": "python",
   "pygments_lexer": "ipython3",
   "version": "3.8.5"
  }
 },
 "nbformat": 4,
 "nbformat_minor": 4
}
