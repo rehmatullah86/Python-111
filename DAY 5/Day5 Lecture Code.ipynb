{
 "cells": [
  {
   "cell_type": "markdown",
   "metadata": {},
   "source": [
    "# DAY 5\n",
    "\n",
    "\n"
   ]
  },
  {
   "cell_type": "markdown",
   "metadata": {},
   "source": [
    "### Topics:\n",
    "1:NESTED LIST\n",
    "2:For loop\n",
    "3:for loops and the range() function"
   ]
  },
  {
   "cell_type": "code",
   "execution_count": 39,
   "metadata": {},
   "outputs": [
    {
     "name": "stdout",
     "output_type": "stream",
     "text": [
      "[['saad', 'fareed', 'ahmad'], ['2018CS632', '2018FS678', '2091CH789'], [[80, 70, 67], [100, 91, 78], [76, 99, 98]]]\n"
     ]
    }
   ],
   "source": [
    "names=[\"saad\",\"fareed\",\"ahmad\"]\n",
    "saad=[80,70,67]\n",
    "fareed=[100,91,78]\n",
    "ahmad=[76,99,98]\n",
    "grades=[saad,fareed,ahmad]\n",
    "regnum=[\"2018CS632\",\"2018FS678\",\"2091CH789\"]\n",
    "result=[names,regnum,grades]\n",
    "print(result)"
   ]
  },
  {
   "cell_type": "markdown",
   "metadata": {},
   "source": [
    "### Task of the day"
   ]
  },
  {
   "cell_type": "code",
   "execution_count": 41,
   "metadata": {},
   "outputs": [
    {
     "name": "stdout",
     "output_type": "stream",
     "text": [
      "[[(0, 0), (0, 1), (0, 2)], [(1, 0), (1, 1), (1, 2)], [(2, 0), (2, 1), (2, 2)]]\n"
     ]
    }
   ],
   "source": [
    "# make 3 by 3 Matrix\n",
    "rows=[0,1,2]\n",
    "col=[0,1,2]\n",
    "matrix=[[(rows[0],col[0]),(rows[0],col[1]),(rows[0],col[2])],[(rows[1],col[0]),(rows[1],col[1]),(rows[1],col[2])],[(rows[2],col[0]),(rows[2],col[1]),(rows[2],col[2])]]\n",
    "print(matrix)"
   ]
  },
  {
   "cell_type": "markdown",
   "metadata": {},
   "source": [
    "### For loop"
   ]
  },
  {
   "cell_type": "code",
   "execution_count": 42,
   "metadata": {},
   "outputs": [
    {
     "name": "stdout",
     "output_type": "stream",
     "text": [
      "0\n",
      "1\n",
      "2\n",
      "3\n",
      "4\n",
      "5\n",
      "6\n",
      "7\n",
      "8\n",
      "9\n"
     ]
    }
   ],
   "source": [
    "#print number from 0 to 10\n",
    "for i in range(0,10): #i start 0 ->1..............\n",
    "    print(i)"
   ]
  },
  {
   "cell_type": "code",
   "execution_count": 43,
   "metadata": {},
   "outputs": [
    {
     "name": "stdout",
     "output_type": "stream",
     "text": [
      "0\n",
      "1\n",
      "2\n",
      "3\n",
      "4\n",
      "5\n",
      "6\n",
      "7\n",
      "8\n",
      "saaad\n"
     ]
    }
   ],
   "source": [
    "#print number from 0 to 10\n",
    "list_num=[0,1,2,3,4,5,6,7,8,\"saaad\"]\n",
    "for i in list_num:\n",
    "    print(i)"
   ]
  },
  {
   "cell_type": "markdown",
   "metadata": {},
   "source": [
    "### task of the day"
   ]
  },
  {
   "cell_type": "code",
   "execution_count": 45,
   "metadata": {},
   "outputs": [
    {
     "name": "stdout",
     "output_type": "stream",
     "text": [
      "4\n",
      "20\n"
     ]
    }
   ],
   "source": [
    "# Calculate Max marks in list:\n",
    "result=0\n",
    "marks=[19,18,20,15]\n",
    "mark=len(marks)\n",
    "print(mark)\n",
    "for i in range(0,len(marks)-1):\n",
    "    if(marks[i]>marks[i+1]):\n",
    "        #print(i)\n",
    "        result=marks[i]#19\n",
    "    else:\n",
    "        #print(i)\n",
    "        result=marks[i+1]\n",
    "print(result)"
   ]
  },
  {
   "cell_type": "markdown",
   "metadata": {},
   "source": [
    "### task 2 of the day"
   ]
  },
  {
   "cell_type": "code",
   "execution_count": 46,
   "metadata": {},
   "outputs": [
    {
     "name": "stdout",
     "output_type": "stream",
     "text": [
      "2550\n"
     ]
    }
   ],
   "source": [
    "# sum of even numbers from 0 to 100\n",
    "sum=0\n",
    "for i in range(0,101,2):\n",
    "    sum+=i\n",
    "print(sum)"
   ]
  },
  {
   "cell_type": "markdown",
   "metadata": {},
   "source": [
    "### task 3 of the day"
   ]
  },
  {
   "cell_type": "markdown",
   "metadata": {},
   "source": [
    "##### The FizzBuzz Job Interview Question\n",
    "if 3 is factor of number then print Fizz\n",
    "if 5 is factor of number then print Buzz\n",
    "if 3 and 5 both are factors of number then print FizzBuzz\n",
    "otherwise print number"
   ]
  },
  {
   "cell_type": "code",
   "execution_count": 49,
   "metadata": {},
   "outputs": [
    {
     "name": "stdout",
     "output_type": "stream",
     "text": [
      "1\n",
      "2\n",
      "Fizz\n",
      "4\n",
      "Buzz\n",
      "Fizz\n",
      "7\n",
      "8\n",
      "Fizz\n",
      "Buzz\n",
      "11\n",
      "Fizz\n",
      "13\n",
      "14\n",
      "FizzBuzz\n",
      "16\n",
      "17\n",
      "Fizz\n",
      "19\n",
      "Buzz\n",
      "Fizz\n",
      "22\n",
      "23\n",
      "Fizz\n",
      "Buzz\n",
      "26\n",
      "Fizz\n",
      "28\n",
      "29\n",
      "FizzBuzz\n",
      "31\n",
      "32\n",
      "Fizz\n",
      "34\n",
      "Buzz\n",
      "Fizz\n",
      "37\n",
      "38\n",
      "Fizz\n",
      "Buzz\n",
      "41\n",
      "Fizz\n",
      "43\n",
      "44\n",
      "FizzBuzz\n",
      "46\n",
      "47\n",
      "Fizz\n",
      "49\n",
      "Buzz\n",
      "Fizz\n",
      "52\n",
      "53\n",
      "Fizz\n",
      "Buzz\n",
      "56\n",
      "Fizz\n",
      "58\n",
      "59\n",
      "FizzBuzz\n",
      "61\n",
      "62\n",
      "Fizz\n",
      "64\n",
      "Buzz\n",
      "Fizz\n",
      "67\n",
      "68\n",
      "Fizz\n",
      "Buzz\n",
      "71\n",
      "Fizz\n",
      "73\n",
      "74\n",
      "FizzBuzz\n",
      "76\n",
      "77\n",
      "Fizz\n",
      "79\n",
      "Buzz\n",
      "Fizz\n",
      "82\n",
      "83\n",
      "Fizz\n",
      "Buzz\n",
      "86\n",
      "Fizz\n",
      "88\n",
      "89\n",
      "FizzBuzz\n",
      "91\n",
      "92\n",
      "Fizz\n",
      "94\n",
      "Buzz\n",
      "Fizz\n",
      "97\n",
      "98\n",
      "Fizz\n",
      "Buzz\n"
     ]
    }
   ],
   "source": [
    "number=0\n",
    "for values in range (1,101):\n",
    "    number+=1 \n",
    "    if number%3==0 and number%5!=0:\n",
    "        print(\"Fizz\")\n",
    "    elif number%5==0 and number%3!=0:\n",
    "        print(\"Buzz\")\n",
    "    elif number%3==0 and number%5==0:\n",
    "        print(\"FizzBuzz\")\n",
    "    else: print(number)"
   ]
  }
 ],
 "metadata": {
  "kernelspec": {
   "display_name": "Python 3",
   "language": "python",
   "name": "python3"
  },
  "language_info": {
   "codemirror_mode": {
    "name": "ipython",
    "version": 3
   },
   "file_extension": ".py",
   "mimetype": "text/x-python",
   "name": "python",
   "nbconvert_exporter": "python",
   "pygments_lexer": "ipython3",
   "version": "3.8.5"
  }
 },
 "nbformat": 4,
 "nbformat_minor": 4
}
