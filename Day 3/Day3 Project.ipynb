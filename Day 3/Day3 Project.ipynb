{
 "cells": [
  {
   "cell_type": "markdown",
   "metadata": {},
   "source": [
    "## Day 3 Project:Now make a calculator by using if-else condition you have to Take 2 Numbers from Users and Apply basic Arthematic Operation."
   ]
  },
  {
   "cell_type": "code",
   "execution_count": null,
   "metadata": {},
   "outputs": [],
   "source": [
    "# Python program for simple calculator \n",
    "\n",
    "# Function to add two numbers \n",
    "def add(num1, num2): \n",
    "    return num1 + num2 \n",
    "\n",
    "# Function to subtract two numbers \n",
    "def subtract(num1, num2): \n",
    "    return num1 - num2 \n",
    "\n",
    "# Function to multiply two numbers \n",
    "def multiply(num1, num2): \n",
    "    return num1 * num2 \n",
    "\n",
    "# Function to divide two numbers \n",
    "def divide(num1, num2): \n",
    "    return num1 / num2 \n",
    "\n",
    "print(\"Please select operation -\\n\" \n",
    "        \"1. Add\\n\" \n",
    "        \"2. Subtract\\n\"  \n",
    "        \"3. Multiply\\n\"  \n",
    "        \"4. Divide\\n\") \n",
    "\n",
    "\n",
    "# Take input from the user \n",
    "option = input(\"Select operations form 1, 2, 3, 4 :\") \n",
    "\n",
    "num1 = int(input(\"Enter first number: \")) \n",
    "num2 = int(input(\"Enter second number: \")) \n",
    "\n",
    "if option == '1': \n",
    "    print(num1, \"+\", num2, \"=\", \n",
    "        add(num1, num2)) \n",
    "\n",
    "elif option == '2': \n",
    "    print(num1, \"-\", num2, \"=\", \n",
    "        subtract(num1, num2)) \n",
    "\n",
    "elif option == '3': \n",
    "    print(num1, \"*\", num2, \"=\", \n",
    "        multiply(num1, num2)) \n",
    "\n",
    "elif option == '4': \n",
    "    print(num1, \"/\", num2, \"=\", \n",
    "        divide(num1, num2)) \n",
    "else: \n",
    "    print(\"Invalid input\") "
   ]
  },
  {
   "cell_type": "code",
   "execution_count": null,
   "metadata": {},
   "outputs": [],
   "source": []
  }
 ],
 "metadata": {
  "kernelspec": {
   "display_name": "Python 3",
   "language": "python",
   "name": "python3"
  },
  "language_info": {
   "codemirror_mode": {
    "name": "ipython",
    "version": 3
   },
   "file_extension": ".py",
   "mimetype": "text/x-python",
   "name": "python",
   "nbconvert_exporter": "python",
   "pygments_lexer": "ipython3",
   "version": "3.8.5"
  }
 },
 "nbformat": 4,
 "nbformat_minor": 4
}
