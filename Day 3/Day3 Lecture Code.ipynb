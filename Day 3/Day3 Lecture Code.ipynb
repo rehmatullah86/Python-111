{
 "cells": [
  {
   "cell_type": "markdown",
   "metadata": {},
   "source": [
    "# DAY 3\n"
   ]
  },
  {
   "cell_type": "markdown",
   "metadata": {},
   "source": [
    "### Topics:\n",
    "1:Conditional Statements\n",
    "2:logical operators\n",
    "3:code block\n",
    "4:scope"
   ]
  },
  {
   "cell_type": "code",
   "execution_count": 21,
   "metadata": {},
   "outputs": [
    {
     "name": "stdout",
     "output_type": "stream",
     "text": [
      "Enter Your marks: 59\n",
      "Asslam-o-Alaikum\n",
      "ok\n",
      "You Pass the Exam:\n"
     ]
    }
   ],
   "source": [
    "# if-else Statements\n",
    "marks=int(input(\"Enter Your marks: \"))\n",
    "\n",
    "if(marks>50):\n",
    "    print(\"Asslam-o-Alaikum\")\n",
    "    print(\"ok\")\n",
    "    print(\"You Pass the Exam:\")\n",
    "else:\n",
    "    print(\"Try Again:\")"
   ]
  },
  {
   "cell_type": "markdown",
   "metadata": {},
   "source": [
    "### Task of the day"
   ]
  },
  {
   "cell_type": "code",
   "execution_count": 22,
   "metadata": {},
   "outputs": [
    {
     "name": "stdout",
     "output_type": "stream",
     "text": [
      "Enter a Number: 23\n",
      "Number is odd\n"
     ]
    }
   ],
   "source": [
    "#Take an input from user in integer value and predict number is odd or even\n",
    "number=int(input(\"Enter a Number: \"))\n",
    "if(number%2==0):\n",
    "    print(\"Number is even\")\n",
    "else:\n",
    "    print(\"Number is odd\")"
   ]
  },
  {
   "cell_type": "code",
   "execution_count": 23,
   "metadata": {},
   "outputs": [
    {
     "name": "stdout",
     "output_type": "stream",
     "text": [
      "Enter a Number: 56\n",
      "Number is positive\n"
     ]
    }
   ],
   "source": [
    "# concept of elif\n",
    "\n",
    "number=int(input(\"Enter a Number: \"))\n",
    "if number>0:\n",
    "    print(\"Number is positive\")\n",
    "elif(number<0):\n",
    "    print(\"Number is negative\")\n",
    "else:\n",
    "    print(\"Number is 0 and it's neither positive nor negative, \")"
   ]
  },
  {
   "cell_type": "code",
   "execution_count": 25,
   "metadata": {},
   "outputs": [
    {
     "name": "stdout",
     "output_type": "stream",
     "text": [
      "Enter a Number: 23\n",
      "number is positive\n",
      "Number is odd\n"
     ]
    }
   ],
   "source": [
    "#Nested if condition\n",
    "number=int(input(\"Enter a Number: \"))\n",
    "if(number>0):\n",
    "    print(\"number is positive\")\n",
    "    if(number%2==0):\n",
    "        print(\"Number is even\")\n",
    "    else:\n",
    "        print(\"Number is odd\")\n",
    "elif(number<0):\n",
    "    print(\"number is negative\")\n",
    "    if(number%2==0):\n",
    "        print(\"Number is even\")\n",
    "    else:\n",
    "        print(\"Number is odd\")\n",
    "else:\n",
    "    print(\"Number is 0 and it's neither positive nor negative, \")"
   ]
  },
  {
   "cell_type": "code",
   "execution_count": 26,
   "metadata": {},
   "outputs": [
    {
     "name": "stdout",
     "output_type": "stream",
     "text": [
      "Enter a Number: 34\n",
      "number is positive\n",
      "Number is even\n"
     ]
    }
   ],
   "source": [
    "#Nested if condition\n",
    "#problem of intentation \n",
    "number=int(input(\"Enter a Number: \"))\n",
    "if(number>0):\n",
    "    print(\"number is positive\")\n",
    "    if(number%2==0):\n",
    "        print(\"Number is even\")\n",
    "    else:\n",
    "        print(\"Number is odd\")\n",
    "        \n",
    "elif(number<0):\n",
    "    print(\"number is positive\")\n",
    "    if(number%2==0):\n",
    "        print(\"Number is even\")\n",
    "    else:\n",
    "        print(\"Number is odd\")\n",
    "else:\n",
    "    print(\"Number is 0 and it's neither positive nor negative, \")"
   ]
  },
  {
   "cell_type": "code",
   "execution_count": 27,
   "metadata": {},
   "outputs": [
    {
     "name": "stdout",
     "output_type": "stream",
     "text": [
      "Enter a Number: 3\n",
      "number is positive\n",
      "Number is odd\n"
     ]
    }
   ],
   "source": [
    "# logical operators\n",
    "#Nested if condition\n",
    "#problem of intentation \n",
    "# and not or\n",
    "# and 2no conditipons ka true hona zarori hay\n",
    "# \n",
    "number=int(input(\"Enter a Number: \"))\n",
    "if(number>0 and number%2==0): # \n",
    "    print(\"number is positive\")\n",
    "    print(\"Number is even\")\n",
    "elif(number>0 or number%2!=0):\n",
    "    print(\"number is positive\")\n",
    "    print(\"Number is odd\")\n",
    "else:\n",
    "    print(\"number is 0\")"
   ]
  }
 ],
 "metadata": {
  "kernelspec": {
   "display_name": "Python 3",
   "language": "python",
   "name": "python3"
  },
  "language_info": {
   "codemirror_mode": {
    "name": "ipython",
    "version": 3
   },
   "file_extension": ".py",
   "mimetype": "text/x-python",
   "name": "python",
   "nbconvert_exporter": "python",
   "pygments_lexer": "ipython3",
   "version": "3.8.5"
  }
 },
 "nbformat": 4,
 "nbformat_minor": 4
}
